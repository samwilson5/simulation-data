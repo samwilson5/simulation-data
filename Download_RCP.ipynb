{
  "cells": [
    {
      "cell_type": "markdown",
      "source": [
        "Set the download location"
      ],
      "metadata": {
        "id": "BTUqv2wczU9V"
      }
    },
    {
      "cell_type": "code",
      "execution_count": null,
      "metadata": {
        "colab": {
          "base_uri": "https://localhost:8080/"
        },
        "id": "JYmTfjgQ9TnW",
        "outputId": "77913ad3-76c3-43dc-b43c-f279dfc411b4"
      },
      "outputs": [
        {
          "output_type": "stream",
          "name": "stdout",
          "text": [
            "/content/drive/MyDrive/Thesis/Chapter2_simulations/netcdfs/NV\n"
          ]
        }
      ],
      "source": [
        "%cd /content/drive/MyDrive/Thesis/Chapter2_simulations/netcdfs/NV/"
      ]
    },
    {
      "cell_type": "markdown",
      "source": [
        "Download the files from MACA"
      ],
      "metadata": {
        "id": "phOwSSctzYBG"
      }
    },
    {
      "cell_type": "code",
      "execution_count": null,
      "metadata": {
        "colab": {
          "base_uri": "https://localhost:8080/"
        },
        "id": "ZM_QyuWB_oS0",
        "outputId": "d8acdda5-80bd-4877-9cf9-6d942adb615a"
      },
      "outputs": [
        {
          "output_type": "stream",
          "name": "stdout",
          "text": [
            "--2024-05-28 15:59:12--  http://thredds.northwestknowledge.net:8080/thredds/ncss/grid/agg_macav2metdata_tasmin_bcc-csm1-1-m_r1i1p1_rcp85_2006_2099_CONUS_daily.nc?&var=air_temperature&north=42.0490&south=35.0005&west=-120.0879&east=-113.9570&temporal=all&accept=netcdf&point=false\n",
            "Resolving thredds.northwestknowledge.net (thredds.northwestknowledge.net)... 129.101.202.140\n",
            "Connecting to thredds.northwestknowledge.net (thredds.northwestknowledge.net)|129.101.202.140|:8080... connected.\n",
            "HTTP request sent, awaiting response... 200 OK\n",
            "Length: unspecified [application/x-netcdf]\n",
            "Saving to: ‘agg_macav2metdata_tasmin_bcc-csm1-1-m_r1i1p1_rcp85_2006_2099_CONUS_daily.nc’\n",
            "\n",
            "agg_macav2metdata_t     [           <=>      ]   3.24G  47.7MB/s    in 1m 41s  \n",
            "\n",
            "2024-05-28 16:07:05 (33.0 MB/s) - ‘agg_macav2metdata_tasmin_bcc-csm1-1-m_r1i1p1_rcp85_2006_2099_CONUS_daily.nc’ saved [3478764356]\n",
            "\n"
          ]
        }
      ],
      "source": [
        "!sh /content/drive/MyDrive/Thesis/Chapter2_simulations/netcdfs/NV/macav2metdata_wget6.sh"
      ]
    }
  ],
  "metadata": {
    "colab": {
      "provenance": []
    },
    "kernelspec": {
      "display_name": "Python 3",
      "name": "python3"
    },
    "language_info": {
      "name": "python"
    }
  },
  "nbformat": 4,
  "nbformat_minor": 0
}