{
  "cells": [
    {
      "cell_type": "markdown",
      "source": [
        "Load in site names and coordinates"
      ],
      "metadata": {
        "id": "kp-gkr9iznBP"
      }
    },
    {
      "cell_type": "code",
      "execution_count": null,
      "metadata": {
        "id": "NqPDFdncUInH"
      },
      "outputs": [],
      "source": [
        "import pandas as pd\n",
        "df = pd.read_csv('/content/drive/MyDrive/Thesis/Chapter2_simulations/locations/SWRuns_InputMain_BSE898.csv')"
      ]
    },
    {
      "cell_type": "code",
      "execution_count": null,
      "metadata": {
        "id": "hz4QPthcUdHn"
      },
      "outputs": [],
      "source": [
        "site = df['Label']"
      ]
    },
    {
      "cell_type": "code",
      "execution_count": null,
      "metadata": {
        "id": "xU9Dk7Y3UiCc"
      },
      "outputs": [],
      "source": [
        "lon = df['X_WGS84']"
      ]
    },
    {
      "cell_type": "code",
      "execution_count": null,
      "metadata": {
        "id": "NRywnoSWUoXG"
      },
      "outputs": [],
      "source": [
        "lat = df['Y_WGS84']"
      ]
    },
    {
      "cell_type": "markdown",
      "source": [
        "Load in the .nc files with the soil properties"
      ],
      "metadata": {
        "id": "9JLP9aui08Yw"
      }
    },
    {
      "cell_type": "code",
      "execution_count": null,
      "metadata": {
        "id": "DYJG42BRVZk0"
      },
      "outputs": [],
      "source": [
        "clay_file = ('/content/drive/MyDrive/Thesis/Chapter2_simulations/soils/clayfrac_fx_SOILWAT2_RangeDroughtExposure_gn.nc')\n",
        "sand_file = ('/content/drive/MyDrive/Thesis/Chapter2_simulations/soils/sandfrac_fx_SOILWAT2_RangeDroughtExposure_gn.nc')\n",
        "coarse_file = ('/content/drive/MyDrive/Thesis/Chapter2_simulations/soils/fragfrac_fx_SOILWAT2_RangeDroughtExposure_gn.nc')\n"
      ]
    },
    {
      "cell_type": "markdown",
      "source": [
        "Pull the values for each plot, add them to a dataframe and export the dataframe. I just repeated this for sand, clay, and gravel in the next three boxes."
      ],
      "metadata": {
        "id": "mzkwffCJzuhM"
      }
    },
    {
      "cell_type": "code",
      "source": [
        "import xarray as xr\n",
        "clay = xr.open_dataset(clay_file)\n",
        "clay_ts = clay.sel(lon=xr.DataArray(lon), lat=xr.DataArray(lat), method='nearest')\n",
        "clay_ts = clay_ts.to_array()\n",
        "clay_reind = clay_ts.reindex(space=['vertical'])\n",
        "clay_df = pd.DataFrame(clay_reind[4,:,1,:])\n",
        "clay_df.columns = ['0_10', '10_20', '20_40','40_60','60_80','80_100','100_150','150_200']\n",
        "clay_df['site'] = site\n",
        "clay_df.to_csv('/content/drive/MyDrive/Thesis/Chapter2_simulations/soils/allsites_clay.csv')"
      ],
      "metadata": {
        "id": "fH4yedXY5tmu"
      },
      "execution_count": null,
      "outputs": []
    },
    {
      "cell_type": "code",
      "source": [
        "sand = xr.open_dataset(sand_file)\n",
        "sand_ts = sand.sel(lon=xr.DataArray(lon), lat=xr.DataArray(lat), method='nearest')\n",
        "sand_ts = sand_ts.to_array()\n",
        "sand_reind = sand_ts.reindex(space=['vertical'])\n",
        "sand_df = pd.DataFrame(sand_reind[4,:,1,:])\n",
        "sand_df.columns = ['0_10', '10_20', '20_40','40_60','60_80','80_100','100_150','150_200']\n",
        "sand_df['site'] = site\n",
        "sand_df.to_csv('/content/drive/MyDrive/Thesis/Chapter2_simulations/soils/allsites_sand.csv')"
      ],
      "metadata": {
        "id": "mNuzFXDu_zX0"
      },
      "execution_count": null,
      "outputs": []
    },
    {
      "cell_type": "code",
      "source": [
        "gravel = xr.open_dataset(coarse_file)\n",
        "gravel_ts = gravel.sel(lon=xr.DataArray(lon), lat=xr.DataArray(lat), method='nearest')\n",
        "gravel_ts = gravel_ts.to_array()\n",
        "gravel_reind = gravel_ts.reindex(space=['vertical'])\n",
        "gravel_df = pd.DataFrame(gravel_reind[4,:,1,:])\n",
        "gravel_df.columns = ['0_10', '10_20', '20_40','40_60','60_80','80_100','100_150','150_200']\n",
        "gravel_df['site'] = site\n",
        "gravel_df.to_csv('/content/drive/MyDrive/Thesis/Chapter2_simulations/soils/allsites_gravel.csv')"
      ],
      "metadata": {
        "id": "R_sXWtP4AGLJ"
      },
      "execution_count": null,
      "outputs": []
    }
  ],
  "metadata": {
    "colab": {
      "provenance": []
    },
    "kernelspec": {
      "display_name": "Python 3",
      "name": "python3"
    },
    "language_info": {
      "name": "python"
    }
  },
  "nbformat": 4,
  "nbformat_minor": 0
}